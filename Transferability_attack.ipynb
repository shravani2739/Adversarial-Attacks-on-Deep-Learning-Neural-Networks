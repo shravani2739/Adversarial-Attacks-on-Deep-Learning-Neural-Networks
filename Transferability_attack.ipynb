{
 "cells": [
  {
   "cell_type": "code",
   "execution_count": 1,
   "id": "5a89e595",
   "metadata": {},
   "outputs": [],
   "source": [
    "import torch\n",
    "import torch.nn as nn\n",
    "import torch.optim as optim\n",
    "import torchvision.datasets as datasets\n",
    "import torchvision.transforms as transforms\n",
    "import numpy as np\n"
   ]
  },
  {
   "cell_type": "code",
   "execution_count": 2,
   "id": "af940f31",
   "metadata": {},
   "outputs": [],
   "source": [
    "import pandas as pd\n",
    "from torch.utils.data import Dataset, DataLoader\n"
   ]
  },
  {
   "cell_type": "code",
   "execution_count": 3,
   "id": "e9fef857",
   "metadata": {},
   "outputs": [],
   "source": [
    "class CustomDataset(Dataset):\n",
    "    def __init__(self, csv_file, transform=None):\n",
    "        self.data = pd.read_csv(csv_file)\n",
    "        self.transform = transform\n",
    "\n",
    "    def __len__(self):\n",
    "        return len(self.data)\n",
    "\n",
    "    def __getitem__(self, idx):\n",
    "        image = self.data.iloc[idx, 1:].values.astype(np.uint8).reshape((28, 28))\n",
    "        label = self.data.iloc[idx, 0]\n",
    "        if self.transform:\n",
    "            image = self.transform(image)\n",
    "        return image, label"
   ]
  },
  {
   "cell_type": "code",
   "execution_count": 4,
   "id": "e010b357",
   "metadata": {},
   "outputs": [],
   "source": [
    "import torch\n",
    "from torch.utils.data import Dataset, DataLoader\n",
    "from sklearn.model_selection import train_test_split\n",
    "from torchvision import transforms\n",
    "transform = transforms.Compose([transforms.ToTensor(), transforms.Normalize((0.5,), (0.5,))])\n",
    "\n",
    "train_dataset = CustomDataset(csv_file='mnist_train.csv', transform=transform)\n",
    "test_dataset = CustomDataset(csv_file='mnist_test.csv', transform=transform)\n",
    "\n",
    "train_loader = DataLoader(train_dataset, batch_size=1, shuffle=True)\n",
    "test_loader = DataLoader(test_dataset, batch_size=1, shuffle=False)"
   ]
  },
  {
   "cell_type": "code",
   "execution_count": 8,
   "id": "e98d7c09",
   "metadata": {},
   "outputs": [],
   "source": [
    "import torch.nn as nn\n",
    "import torch.nn.functional as F\n",
    "class CNN(nn.Module):\n",
    "    def __init__(self):\n",
    "        super(CNN, self).__init__()\n",
    "        self.conv1 = nn.Conv2d(1, 32, kernel_size=3, padding=1)\n",
    "        self.conv2 = nn.Conv2d(32, 64, kernel_size=3, padding=1)\n",
    "        self.pool = nn.MaxPool2d(kernel_size=2, stride=2, padding=0)\n",
    "        self.fc1 = nn.Linear(64 * 7 * 7, 128)\n",
    "        self.fc2 = nn.Linear(128, 10)\n",
    "\n",
    "    def forward(self, x):\n",
    "        x = self.pool(F.relu(self.conv1(x)))\n",
    "        x = self.pool(F.relu(self.conv2(x)))\n",
    "        x = x.view(-1, 64 * 7 * 7)\n",
    "        x = F.relu(self.fc1(x))\n",
    "        x = self.fc2(x)\n",
    "        return x"
   ]
  },
  {
   "cell_type": "code",
   "execution_count": 9,
   "id": "199b8bd6",
   "metadata": {},
   "outputs": [],
   "source": [
    "target_model = CNN()\n",
    "criterion = nn.CrossEntropyLoss()\n",
    "optimizer = optim.Adam(target_model.parameters(), lr=0.001)"
   ]
  },
  {
   "cell_type": "code",
   "execution_count": 10,
   "id": "4875ea47",
   "metadata": {},
   "outputs": [
    {
     "name": "stdout",
     "output_type": "stream",
     "text": [
      "Original Test Accuracy: 0.9827\n"
     ]
    }
   ],
   "source": [
    "target_model.train()\n",
    "for epoch in range(5):\n",
    "    for data, target in train_loader:\n",
    "        optimizer.zero_grad()\n",
    "        output = target_model(data)\n",
    "        loss = criterion(output, target)\n",
    "        loss.backward()\n",
    "        optimizer.step()\n",
    "\n",
    "# Evaluate the model on the original test set\n",
    "target_model.eval()\n",
    "correct = 0\n",
    "total = 0\n",
    "with torch.no_grad():\n",
    "    for data, target in test_loader:\n",
    "        output = target_model(data)\n",
    "        _, predicted = torch.max(output.data, 1)\n",
    "        total += target.size(0)\n",
    "        correct += (predicted == target).sum().item()\n",
    "\n",
    "original_accuracy = correct / total\n",
    "print(f'Original Test Accuracy: {original_accuracy:.4f}')"
   ]
  },
  {
   "cell_type": "code",
   "execution_count": 11,
   "id": "838842cf",
   "metadata": {},
   "outputs": [
    {
     "name": "stdout",
     "output_type": "stream",
     "text": [
      "Surrogate Model Test Accuracy: 0.9824\n"
     ]
    }
   ],
   "source": [
    "# Initialize the surrogate model\n",
    "surrogate_model = CNN()\n",
    "optimizer = optim.Adam(surrogate_model.parameters(), lr=0.001)\n",
    "\n",
    "# Train the surrogate model\n",
    "surrogate_model.train()\n",
    "for epoch in range(5):\n",
    "    for data, target in train_loader:\n",
    "        optimizer.zero_grad()\n",
    "        output = surrogate_model(data)\n",
    "        loss = criterion(output, target)\n",
    "        loss.backward()\n",
    "        optimizer.step()\n",
    "\n",
    "# Evaluate the surrogate model on the original test set\n",
    "surrogate_model.eval()\n",
    "correct = 0\n",
    "total = 0\n",
    "with torch.no_grad():\n",
    "    for data, target in test_loader:\n",
    "        output = surrogate_model(data)\n",
    "        _, predicted = torch.max(output.data, 1)\n",
    "        total += target.size(0)\n",
    "        correct += (predicted == target).sum().item()\n",
    "\n",
    "surrogate_accuracy = correct / total\n",
    "print(f'Surrogate Model Test Accuracy: {surrogate_accuracy:.4f}')\n"
   ]
  },
  {
   "cell_type": "code",
   "execution_count": 20,
   "id": "fe68d350",
   "metadata": {},
   "outputs": [],
   "source": [
    "from torchvision import datasets, transforms\n",
    "from torch.utils.data import DataLoader\n",
    "import torch.nn.functional as F\n",
    "\n",
    "def create_adversarial_pattern(model, data, target):\n",
    "    data.requires_grad = True\n",
    "    output = model(data)\n",
    "    loss = criterion(output, target)\n",
    "    model.zero_grad()\n",
    "    loss.backward()\n",
    "    data_grad = data.grad.data\n",
    "    return data_grad.sign()\n",
    "\n",
    "# Generate adversarial examples\n",
    "data_iter = iter(test_loader)\n",
    "data, target = next(data_iter)\n",
    "epsilon = 0.3\n",
    "data_grad = create_adversarial_pattern(surrogate_model, data, target)\n",
    "adv_data = data + epsilon * data_grad\n",
    "adv_data = torch.clamp(adv_data, 0, 1)\n"
   ]
  },
  {
   "cell_type": "code",
   "execution_count": 21,
   "id": "b20f01f8",
   "metadata": {},
   "outputs": [
    {
     "name": "stdout",
     "output_type": "stream",
     "text": [
      "Adversarial Test Accuracy: 0.0000\n",
      "Original Test Accuracy: 0.9827\n",
      "Adversarial Test Accuracy: 0.0000\n"
     ]
    }
   ],
   "source": [
    "# Evaluate the target model on adversarial examples\n",
    "correct = 0\n",
    "total = 0\n",
    "with torch.no_grad():\n",
    "    output = target_model(adv_data)\n",
    "    _, predicted = torch.max(output.data, 1)\n",
    "    total += target.size(0)\n",
    "    correct += (predicted == target).sum().item()\n",
    "\n",
    "adv_accuracy = correct / total\n",
    "print(f'Adversarial Test Accuracy: {adv_accuracy:.4f}')\n",
    "\n",
    "# Compare accuracies\n",
    "print(f'Original Test Accuracy: {original_accuracy:.4f}')\n",
    "print(f'Adversarial Test Accuracy: {adv_accuracy:.4f}')\n"
   ]
  },
  {
   "cell_type": "code",
   "execution_count": 25,
   "id": "3306c884",
   "metadata": {},
   "outputs": [],
   "source": [
    "def create_adversarial_pattern(model, data, target):\n",
    "    data.requires_grad = True\n",
    "    output = model(data)\n",
    "    loss = criterion(output, target)\n",
    "    model.zero_grad()\n",
    "    loss.backward()\n",
    "    data_grad = data.grad.data\n",
    "    return data_grad.sign()"
   ]
  },
  {
   "cell_type": "code",
   "execution_count": 26,
   "id": "98033370",
   "metadata": {},
   "outputs": [],
   "source": [
    "def evaluate_adversarial_examples(model, test_loader, epsilon):\n",
    "    correct = 0\n",
    "    total = 0\n",
    "    model.eval()\n",
    "    for data, target in test_loader:\n",
    "        data.requires_grad = True\n",
    "        data_grad = create_adversarial_pattern(surrogate_model, data, target)\n",
    "        adv_data = data + epsilon * data_grad\n",
    "        adv_data = torch.clamp(adv_data, 0, 1)\n",
    "        output = model(adv_data)\n",
    "        _, predicted = torch.max(output.data, 1)\n",
    "        total += target.size(0)\n",
    "        correct += (predicted == target).sum().item()\n",
    "    return correct / total"
   ]
  },
  {
   "cell_type": "code",
   "execution_count": 29,
   "id": "505788e2",
   "metadata": {},
   "outputs": [
    {
     "name": "stdout",
     "output_type": "stream",
     "text": [
      "Epsilon: 0.00, Adversarial Test Accuracy: 0.5448\n",
      "Epsilon: 0.01, Adversarial Test Accuracy: 0.5248\n",
      "Epsilon: 0.05, Adversarial Test Accuracy: 0.4203\n",
      "Epsilon: 0.10, Adversarial Test Accuracy: 0.3082\n",
      "Epsilon: 0.15, Adversarial Test Accuracy: 0.2365\n",
      "Epsilon: 0.20, Adversarial Test Accuracy: 0.1981\n",
      "Epsilon: 0.25, Adversarial Test Accuracy: 0.1773\n",
      "Epsilon: 0.30, Adversarial Test Accuracy: 0.1634\n"
     ]
    },
    {
     "data": {
      "image/png": "[encoded data removed]",
      "text/plain": [
       "<Figure size 1000x500 with 1 Axes>"
      ]
     },
     "metadata": {},
     "output_type": "display_data"
    }
   ],
   "source": [
    "import matplotlib.pyplot as plt\n",
    "\n",
    "epsilons = [0, 0.01, 0.05, 0.1, 0.15, 0.2, 0.25, 0.3]\n",
    "accuracies = []\n",
    "\n",
    "for epsilon in epsilons:\n",
    "    accuracy = evaluate_adversarial_examples(target_model, test_loader, epsilon)\n",
    "    accuracies.append(accuracy)\n",
    "    print(f'Epsilon: {epsilon:.2f}, Adversarial Test Accuracy: {accuracy:.4f}')\n",
    "\n",
    "# Display the results\n",
    "plt.figure(figsize=(10, 5))\n",
    "plt.plot(epsilons, accuracies, marker='o')\n",
    "plt.title('Adversarial Test Accuracy vs. Epsilon')\n",
    "plt.xlabel('Epsilon')\n",
    "plt.ylabel('Accuracy')\n",
    "plt.show()"
   ]
  },
  {
   "cell_type": "code",
   "execution_count": 1,
   "id": "069bfa6c",
   "metadata": {},
   "outputs": [],
   "source": [
    "import torch\n",
    "import torch.nn as nn\n",
    "import torch.optim as optim\n",
    "import torchvision.datasets as datasets\n",
    "import torchvision.transforms as transforms\n",
    "import numpy as np\n",
    "import pandas as pd\n",
    "from torch.utils.data import Dataset, DataLoader\n"
   ]
  },
  {
   "cell_type": "code",
   "execution_count": 2,
   "id": "2463c473",
   "metadata": {},
   "outputs": [],
   "source": [
    "class CustomDataset(Dataset):\n",
    "    def __init__(self, csv_file, transform=None):\n",
    "        self.data = pd.read_csv(csv_file)\n",
    "        self.transform = transform\n",
    "\n",
    "    def __len__(self):\n",
    "        return len(self.data)\n",
    "\n",
    "    def __getitem__(self, idx):\n",
    "        image = self.data.iloc[idx, 1:].values.astype(np.uint8).reshape((28, 28))\n",
    "        label = self.data.iloc[idx, 0]\n",
    "        if self.transform:\n",
    "            image = self.transform(image)\n",
    "        return image, label"
   ]
  },
  {
   "cell_type": "code",
   "execution_count": 3,
   "id": "08f39376",
   "metadata": {},
   "outputs": [],
   "source": [
    "import torch\n",
    "from torch.utils.data import Dataset, DataLoader\n",
    "from sklearn.model_selection import train_test_split\n",
    "from torchvision import transforms\n",
    "transform = transforms.Compose([transforms.ToTensor(), transforms.Normalize((0.5,), (0.5,))])\n",
    "\n",
    "train_dataset = CustomDataset(csv_file='mnist_train.csv', transform=transform)\n",
    "test_dataset = CustomDataset(csv_file='mnist_test.csv', transform=transform)\n",
    "\n",
    "train_loader = DataLoader(train_dataset, batch_size=1, shuffle=True)\n",
    "test_loader = DataLoader(test_dataset, batch_size=1, shuffle=False)"
   ]
  },
  {
   "cell_type": "code",
   "execution_count": 7,
   "id": "c460b425",
   "metadata": {},
   "outputs": [],
   "source": [
    "import torch.nn.functional as F\n",
    "class CNN(nn.Module):\n",
    "    def __init__(self):\n",
    "        super(CNN, self).__init__()\n",
    "        self.conv1 = nn.Conv2d(1, 32, kernel_size=3, padding=1)\n",
    "        self.conv2 = nn.Conv2d(32, 64, kernel_size=3, padding=1)\n",
    "        self.pool = nn.MaxPool2d(kernel_size=2, stride=2, padding=0)\n",
    "        self.fc1 = nn.Linear(64 * 7 * 7, 128)\n",
    "        self.fc2 = nn.Linear(128, 10)\n",
    "\n",
    "    def forward(self, x):\n",
    "        x = self.pool(F.relu(self.conv1(x)))\n",
    "        x = self.pool(F.relu(self.conv2(x)))\n",
    "        x = x.view(-1, 64 * 7 * 7)\n",
    "        x = F.relu(self.fc1(x))\n",
    "        x = self.fc2(x)\n",
    "        return x\n",
    "    \n",
    "target_model = CNN()\n",
    "criterion = nn.CrossEntropyLoss()\n",
    "optimizer = optim.Adam(target_model.parameters(), lr=0.001)"
   ]
  },
  {
   "cell_type": "code",
   "execution_count": 8,
   "id": "8089d7f7",
   "metadata": {},
   "outputs": [],
   "source": [
    "def create_adversarial_pattern(model, data, target):\n",
    "    data.requires_grad = True\n",
    "    output = model(data)\n",
    "    loss = criterion(output, target)\n",
    "    model.zero_grad()\n",
    "    loss.backward()\n",
    "    data_grad = data.grad.data\n",
    "    return data_grad.sign()\n",
    "\n",
    "def adversarial_training(model, train_loader, epsilon):\n",
    "    model.train()\n",
    "    for data, target in train_loader:\n",
    "        # Forward pass\n",
    "        data.requires_grad = True\n",
    "        output = model(data)\n",
    "        loss = criterion(output, target)\n",
    "        \n",
    "        # Backward pass\n",
    "        model.zero_grad()\n",
    "        loss.backward()\n",
    "        optimizer.step()\n",
    "        \n",
    "        # Generate adversarial examples\n",
    "        data_grad = data.grad.data\n",
    "        adv_data = data + epsilon * data_grad.sign()\n",
    "        adv_data = torch.clamp(adv_data, 0, 1)\n",
    "        \n",
    "        # Forward pass on adversarial examples\n",
    "        adv_output = model(adv_data)\n",
    "        adv_loss = criterion(adv_output, target)\n",
    "        \n",
    "        # Backward pass on adversarial examples\n",
    "        model.zero_grad()\n",
    "        adv_loss.backward()\n",
    "        optimizer.step()\n"
   ]
  },
  {
   "cell_type": "code",
   "execution_count": 9,
   "id": "1cbb48eb",
   "metadata": {},
   "outputs": [
    {
     "name": "stdout",
     "output_type": "stream",
     "text": [
      "Epoch 1/5 completed.\n",
      "Epoch 2/5 completed.\n",
      "Epoch 3/5 completed.\n",
      "Epoch 4/5 completed.\n",
      "Epoch 5/5 completed.\n",
      "Original Test Accuracy after Adversarial Training: 0.9782\n"
     ]
    }
   ],
   "source": [
    "epsilon = 0.1  # You can adjust this value\n",
    "num_epochs = 5\n",
    "\n",
    "for epoch in range(num_epochs):\n",
    "    adversarial_training(target_model, train_loader, epsilon)\n",
    "    print(f'Epoch {epoch+1}/{num_epochs} completed.')\n",
    "\n",
    "# Evaluate the model on the original test set\n",
    "target_model.eval()\n",
    "correct = 0\n",
    "total = 0\n",
    "with torch.no_grad():\n",
    "    for data, target in test_loader:\n",
    "        output = target_model(data)\n",
    "        _, predicted = torch.max(output.data, 1)\n",
    "        total += target.size(0)\n",
    "        correct += (predicted == target).sum().item()\n",
    "\n",
    "original_accuracy = correct / total\n",
    "print(f'Original Test Accuracy after Adversarial Training: {original_accuracy:.4f}')"
   ]
  },
  {
   "cell_type": "code",
   "execution_count": null,
   "id": "929a853c",
   "metadata": {},
   "outputs": [],
   "source": []
  }
 ],
 "metadata": {
  "kernelspec": {
   "display_name": "Python 3 (ipykernel)",
   "language": "python",
   "name": "python3"
  },
  "language_info": {
   "codemirror_mode": {
    "name": "ipython",
    "version": 3
   },
   "file_extension": ".py",
   "mimetype": "text/x-python",
   "name": "python",
   "nbconvert_exporter": "python",
   "pygments_lexer": "ipython3",
   "version": "3.10.9"
  }
 },
 "nbformat": 4,
 "nbformat_minor": 5
}
